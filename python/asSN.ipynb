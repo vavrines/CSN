{
 "cells": [
  {
   "cell_type": "markdown",
   "metadata": {
    "id": "qn2D1dRCEeDU"
   },
   "source": [
    "# $S_N$ Method with Artificial Scattering\n",
    "\n",
    "Companion notebook for the paper *Ray Effect Mitigation for the Discrete Ordinates Method Using Artificial Scattering* by Martin Frank, Jonas Kusch, Thomas Camminady, and Cory D. Hauck.\n",
    "Provided in this notebook is a simple `python` implementation using `numba` to increase the performance. While this is not the exact code that was used to create the results in the paper, it is (hopefully) an almost identical replicate in `python`."
   ]
  },
  {
   "cell_type": "markdown",
   "metadata": {
    "id": "t7uCKNZhEayG"
   },
   "source": [
    "## Load relevant libraries"
   ]
  },
  {
   "cell_type": "code",
   "execution_count": 1,
   "metadata": {
    "colab": {
     "base_uri": "https://localhost:8080/",
     "height": 34
    },
    "id": "_8-qy7NrKFyq",
    "outputId": "067c0782-5c8c-465f-be10-7ac16632ba53"
   },
   "outputs": [],
   "source": [
    "import sys, time, numba, math, itertools\n",
    "import numpy as np\n",
    "import matplotlib.pyplot as plt\n",
    "# We need special spherical quadrature that are stored in a different repository\n",
    "# !git clone https://github.com/camminady/PlatonicSolidsQuadratures.git\n",
    "sys.path.insert(0, \"PlatonicSolidsQuadratures\")\n",
    "from platonicsolidsquadrature import platonicsolidsquadrature"
   ]
  },
  {
   "cell_type": "markdown",
   "metadata": {
    "id": "JOe2FovAD6wu"
   },
   "source": [
    "## Core components for  second order FVM with slope limiter"
   ]
  },
  {
   "cell_type": "code",
   "execution_count": 2,
   "metadata": {
    "id": "uIM1_xT9KMXX"
   },
   "outputs": [],
   "source": [
    "# computes the sclarflux from the angular flux\n",
    "def scalarflux(psi, qweights):\n",
    "    return np.einsum(\"i,ijk->jk\", qweights, psi)\n",
    "\n",
    "@numba.njit(fastmath=True)  # for x to be between low and up\n",
    "def clamp(x, low, up):\n",
    "    return low if x < low else (up if x > up else x)\n",
    "\n",
    "@numba.njit(fastmath=True)  # minmod limiter\n",
    "def minmod(x, y):\n",
    "    return clamp(y, x, 0.0) if x < 0 else clamp(y, 0.0, x)\n",
    "\n",
    "@numba.njit(fastmath=True)  # slopefit for second order scheme\n",
    "def slope(l, c, r): # left, center, right\n",
    "    return minmod(2 * (r - c), minmod(2 * (c - l), 0.5 * (r - l)))\n",
    "\n",
    "@numba.njit(fastmath=True, parallel=True) # second order fvm \n",
    "def updateflux(flux, psi, qpoints, dy, dx):\n",
    "    nq, ny, nx = psi.shape  \n",
    "    for q in numba.prange(nq):\n",
    "        qy, qx, qz = qpoints[q, :]\n",
    "        signy, signx = 0.5 * np.sign(qy), 0.5 * np.sign(qx) \n",
    "        offy, offx = int(signy <= 0.0), int(signx <= 0.0)\n",
    "        for i in range(2, ny - 2):\n",
    "            for j in range(2, nx - 2):\n",
    "                s0, s1, s2, s3 = psi[q, i - 2 + offy : i + 2 + offy, j]\n",
    "                yflux = s2 - s1 + signy * (slope(s1,s2,s3) - slope(s0,s1,s2))\n",
    "                s0, s1, s2, s3 = psi[q, i, j - 2 + offx : j + 2 + offx]\n",
    "                xflux = s2 - s1 + signx * (slope(s1,s2,s3) - slope(s0,s1,s2))       \n",
    "                flux[q, i, j] = qy / dy * yflux + qx / dx * xflux"
   ]
  },
  {
   "cell_type": "markdown",
   "metadata": {
    "id": "j7HIANKNQF3n"
   },
   "source": [
    "## Plotting routine"
   ]
  },
  {
   "cell_type": "code",
   "execution_count": 3,
   "metadata": {
    "id": "ic4TVhW1QHW7"
   },
   "outputs": [],
   "source": [
    "def plotresult(yedges, xedges, psi0, psi, qweights, style):\n",
    "    plt.style.use(\"https://raw.githubusercontent.com/camminady/kitstyle/master/kitishnotex.mplstyle\")\n",
    "    phi0, phi = scalarflux(psi0,qweights), scalarflux(psi,qweights)\n",
    "    fig, axs = plt.subplots(1, 2, figsize=(2 * 3, 3))\n",
    "    for data,ax,title in zip([phi0,phi],axs,[\"Initial\",\"Final\"]):\n",
    "        mass = np.sum(data)\n",
    "        if style == \"log\": data = np.log10(data+1e-16)\n",
    "        pcm = ax.pcolormesh(yedges, xedges, data[2:-2,2:-2], cmap=\"plasma\")\n",
    "        cbar = fig.colorbar(pcm, ax=ax, orientation=\"vertical\", shrink=0.6)\n",
    "        ax.set_title(\"{} $\\phi$ (mass = {:.3f})\".format(title, mass))\n",
    "        ax.set_yticks([yedges[0],yedges[-1]]); ax.set_xticks([xedges[0],xedges[-1]]); \n",
    "        ax.set_aspect(\"equal\", \"box\")"
   ]
  },
  {
   "cell_type": "markdown",
   "metadata": {
    "id": "S7LsyIaGD_ZC"
   },
   "source": [
    "## Physical and artificial scattering "
   ]
  },
  {
   "cell_type": "code",
   "execution_count": 4,
   "metadata": {
    "id": "MpEQQkunss74"
   },
   "outputs": [],
   "source": [
    "@numba.njit  # dot product matrix for all quadrature points\n",
    "def dotmatrix(qpoints):\n",
    "    dotmatrix = np.zeros((qpoints.shape[0],qpoints.shape[0]))\n",
    "    for i in range(qpoints.shape[0]):\n",
    "        for j in range(qpoints.shape[0]):\n",
    "            dotmatrix[i, j] = np.dot(qpoints[i, :], qpoints[j, :])\n",
    "    return dotmatrix\n",
    "\n",
    "@numba.njit  # physical scattering kernel\n",
    "def isotropickernel(mu, params):\n",
    "    return 1 / (4.0 * np.pi)\n",
    "\n",
    "@numba.njit  # artificial scattering kernel\n",
    "def artificialkernel(mu, params):\n",
    "    factor = 2.0 / np.sqrt(np.pi) / math.erf(2 / params)\n",
    "    return factor * np.exp(-((1 - mu) ** 2) / params ** 2)\n",
    "\n",
    "@numba.njit  # scattering matrix\n",
    "def computescattering(kernel, params, qpoints, qweights):\n",
    "    dotproduct = dotmatrix(qpoints)  # element wise dot product\n",
    "    matrix = np.zeros((qpoints.shape[0],qpoints.shape[0]))\n",
    "    for i in range(qpoints.shape[0]):\n",
    "        for j in range(qpoints.shape[0]):\n",
    "            matrix[i, j] = kernel(dotproduct[i, j], params) * qweights[j]  \n",
    "    for i in range(qpoints.shape[0]):\n",
    "        matrix[i, :] /= np.sum(matrix[i, :])  # normalize\n",
    "    return matrix"
   ]
  },
  {
   "cell_type": "markdown",
   "metadata": {
    "id": "PQnhmj3lEDIC"
   },
   "source": [
    "## Time integration"
   ]
  },
  {
   "cell_type": "code",
   "execution_count": 5,
   "metadata": {
    "id": "f9UnTjQUKRtp"
   },
   "outputs": [],
   "source": [
    "@numba.njit(fastmath=True, parallel = True)  # time integration\n",
    "def euler(psi, qweights, qpoints, dt, flux, sigmaa, sigmas, sigmaas, kernelphysical, kernelartificial, scattering, source):    \n",
    "    # scattering contribution\n",
    "    for i in numba.prange(psi.shape[1]):\n",
    "        for j in range(psi.shape[2]):\n",
    "            scattering[:, i, j] = (sigmas[i,j] * kernelphysical + sigmaas[i,j] * kernelartificial) @ psi[:, i, j]\n",
    "    # transport equation\n",
    "    sigmat = sigmaa + sigmas + sigmaas\n",
    "    for q in numba.prange(psi.shape[0]):\n",
    "        update = -flux[q, :, :] - np.multiply(sigmat, psi[q, :, :]) + scattering[q, :, :] + source[q, :, :]\n",
    "        psi[q, :, :] += dt * update \n",
    "\n",
    "@numba.njit(fastmath=True)  # execute time loop till end\n",
    "def run(psi, dt, dx, dy, nt, qpoints, qweights, sigmas, sigmaa, sigmaas, beta, source):\n",
    "    nq, ny, nx = psi.shape  \n",
    "    flux = np.zeros(psi.shape)\n",
    "    scattering = np.zeros(psi.shape)\n",
    "\n",
    "    scatterphysical  = computescattering(isotropickernel, 0.0, qpoints, qweights) \n",
    "    scatterartificial = computescattering(artificialkernel, beta / nq, qpoints, qweights)  \n",
    "\n",
    "    for timestep in range(nt):\n",
    "        psiOld = np.copy(psi)\n",
    "        for steps in range(2):\n",
    "            updateflux(flux, psi, qpoints, dy, dx)\n",
    "            euler(psi, qweights, qpoints, dt, flux, sigmaa, sigmas, sigmaas, scatterphysical, scatterartificial, scattering, source)\n",
    "        psi = (psi + psiOld) / 2.0\n",
    "    return psi"
   ]
  },
  {
   "cell_type": "markdown",
   "metadata": {
    "id": "L4fNO7gvELH_"
   },
   "source": [
    "## Driver routine"
   ]
  },
  {
   "cell_type": "code",
   "execution_count": 6,
   "metadata": {
    "id": "pgJXyfi8gH4m"
   },
   "outputs": [],
   "source": [
    "def execute(problemparams, numericparams):\n",
    "    y0, y1, x0, x1, t, fsigmas, fsigmaa, fpsi0, fsource, style = problemparams\n",
    "    ny, nx, cfl, qpoints, qweights, fsigmaas, beta  = numericparams\n",
    "    nq = len(qweights)\n",
    "\n",
    "    yedges, xedges = np.linspace(y0, y1, ny + 1), np.linspace(x0, x1, nx + 1)\n",
    "    y, x = np.meshgrid((yedges[1:] + yedges[:-1]) / 2, (xedges[1:] + xedges[:-1]) / 2)\n",
    "    dy, dx = yedges[1] - yedges[0], xedges[1] - xedges[0]\n",
    "\n",
    "    psi0 = np.zeros((nq, ny + 4, nx + 4 ))   # Ghost cells\n",
    "    psi, source = np.copy(psi0), np.copy(psi0)\n",
    "    sigmaa  = np.zeros((ny + 4, nx + 4 ))\n",
    "    sigmas, sigmaas = np.copy(sigmaa), np.copy(sigmaa)\n",
    "  \n",
    "    for arg, fun  in zip([psi0,psi,source],[fpsi0,fpsi0,fsource]):\n",
    "        for q in range(len(qweights)):\n",
    "            arg[q,2:-2,2:-2] = np.vectorize(fun)(y,x)\n",
    "    for arg, fun in zip([sigmaa, sigmas, sigmaas],[fsigmaa, fsigmas, fsigmaas]):\n",
    "        arg[2:-2,2:-2] = np.vectorize(fun)(y,x)\n",
    "    psi /= (1e-200 + np.sum(scalarflux(psi,qweights)))\n",
    "    psi0 /= (1e-200 + np.sum(scalarflux(psi0,qweights)))\n",
    "    \n",
    "    nt = int(np.ceil(t / (cfl / 2 * (dx * dy) / (dx + dy))))\n",
    "    dt = t / nt\n",
    "  \n",
    "    start = time.time()\n",
    "    psi = run(psi, dt, dx, dy, nt, qpoints, qweights, sigmas, sigmaa, sigmaas, beta, source)\n",
    "    print(\"Elapsed time = {} seconds.\".format(time.time() - start))\n",
    "    plotresult(xedges, yedges, psi0, psi,qweights, style)"
   ]
  },
  {
   "cell_type": "markdown",
   "metadata": {
    "id": "NkJvKbC9d91o"
   },
   "source": [
    "## Problem setup and execution"
   ]
  },
  {
   "cell_type": "code",
   "execution_count": 7,
   "metadata": {
    "id": "BVYsDy22A8YF"
   },
   "outputs": [],
   "source": [
    "def linesource():\n",
    "    sigmas = lambda y,x: 0.0\n",
    "    sigmaa = lambda y,x: 1.0\n",
    "    var = 4 * 0.03 ** 2\n",
    "    psi0 = lambda y,x: np.exp(-(x ** 2 + y ** 2) / var) / var / np.pi\n",
    "    source = lambda y,x: 0.0\n",
    "    y0, y1, x0, x1, t = -1.5, 1.5, -1.5, 1.5, 1.0\n",
    "    plotstyle = \"normal\"\n",
    "    return [y0, y1, x0, x1, t, sigmas, sigmaa, psi0, source, plotstyle]\n",
    "\n",
    "def checkerboard():\n",
    "    psi0 = lambda y,x: 0.0\n",
    "    def sigmas(y,x):\n",
    "        if ((1<=y<=2 or 5<=y<=6) and (1<=x<=2 or 3<=x<=4 or 5<=x<=6)) \\\n",
    "            or ((2<=y<=3 or 4<=y<=5) and (2<=x<=3 or 4<=x<=5 ))  \\\n",
    "            or ((3<=y<=4) and (3<=x<=4 or 5<=x<=6)):\n",
    "            return 0.0\n",
    "        else:\n",
    "            return 1.0\n",
    "\n",
    "def sigmaa(y,x):\n",
    "    if ((1<=y<=2 or 5<=y<=6) and (1<=x<=2 or 3<=x<=4 or 5<=x<=6)) \\\n",
    "      or ((2<=y<=3 or 4<=y<=5) and (2<=x<=3 or 4<=x<=5 ))  \\\n",
    "      or ((3<=y<=4) and (3<=x<=4 or 5<=x<=6)):\n",
    "        return 10.0\n",
    "    else:\n",
    "        return 0.0\n",
    "\n",
    "def source(y,x):\n",
    "    if ((3<=y<=4) and (3<=x<=4)):\n",
    "        return 1.0\n",
    "    else:\n",
    "        return 0.0\n",
    "    y0, y1, x0, x1, t = 0.0, 7.0, 0.0, 7.0, 3.2\n",
    "    plotstyle = \"log\"\n",
    "    return [y0, y1, x0, x1, t, sigmas, sigmaa, psi0, source,plotstyle]"
   ]
  },
  {
   "cell_type": "code",
   "execution_count": 8,
   "metadata": {
    "colab": {
     "base_uri": "https://localhost:8080/",
     "height": 485
    },
    "id": "MeJiuNBnYBPe",
    "outputId": "a41f2358-a8cb-4df0-a5e8-73e2eac5f848"
   },
   "outputs": [
    {
     "name": "stderr",
     "output_type": "stream",
     "text": [
      "<ipython-input-5-a99a78ff1c55>:26: NumbaPerformanceWarning: \u001b[1m\u001b[1m\u001b[1m'@' is faster on contiguous arrays, called on (array(float64, 2d, C), array(float64, 1d, A))\u001b[0m\u001b[0m\u001b[0m\n",
      "  euler(psi, qweights, qpoints, dt, flux, sigmaa, sigmas, sigmaas, scatterphysical, scatterartificial, scattering, source)\n",
      "<ipython-input-5-a99a78ff1c55>:26: NumbaPerformanceWarning: \u001b[1m\u001b[1m'@' is faster on contiguous arrays, called on (array(float64, 2d, C), array(float64, 1d, A))\u001b[0m\u001b[0m\n",
      "  euler(psi, qweights, qpoints, dt, flux, sigmaa, sigmas, sigmaas, scatterphysical, scatterartificial, scattering, source)\n"
     ]
    },
    {
     "name": "stdout",
     "output_type": "stream",
     "text": [
      "Elapsed time = 5.542937994003296 seconds.\n"
     ]
    },
    {
     "data": {
      "image/png": "[encoded data removed]",
      "text/plain": [
       "<Figure size 1200x600 with 4 Axes>"
      ]
     },
     "metadata": {
      "needs_background": "light"
     },
     "output_type": "display_data"
    }
   ],
   "source": [
    "ny, nx, cfl, quaddegree = 100, 100, 0.95, 3\n",
    "qpoints, qweights, _, _, _, _ = platonicsolidsquadrature(\"ico\", quaddegree)\n",
    "sigmaas = lambda x,y :  1.0\n",
    "beta = 40\n",
    "numericparams = [ny, nx, cfl, qpoints, qweights, sigmaas, beta]\n",
    "\n",
    "execute(linesource(), numericparams)"
   ]
  },
  {
   "cell_type": "code",
   "execution_count": 15,
   "metadata": {
    "id": "4emukbJLIZ7U"
   },
   "outputs": [
    {
     "data": {
      "text/plain": [
       "0.5000000000000001"
      ]
     },
     "execution_count": 15,
     "metadata": {},
     "output_type": "execute_result"
    }
   ],
   "source": [
    "qpoints[41, 2]"
   ]
  },
  {
   "cell_type": "code",
   "execution_count": 16,
   "metadata": {},
   "outputs": [
    {
     "data": {
      "text/plain": [
       "<function __main__.<lambda>(x, y)>"
      ]
     },
     "execution_count": 16,
     "metadata": {},
     "output_type": "execute_result"
    }
   ],
   "source": [
    "sigmaas"
   ]
  },
  {
   "cell_type": "code",
   "execution_count": null,
   "metadata": {},
   "outputs": [],
   "source": []
  }
 ],
 "metadata": {
  "colab": {
   "collapsed_sections": [],
   "name": "asSN.ipynb",
   "provenance": []
  },
  "kernelspec": {
   "display_name": "Python 3",
   "language": "python",
   "name": "python3"
  },
  "language_info": {
   "codemirror_mode": {
    "name": "ipython",
    "version": 3
   },
   "file_extension": ".py",
   "mimetype": "text/x-python",
   "name": "python",
   "nbconvert_exporter": "python",
   "pygments_lexer": "ipython3",
   "version": "3.8.5"
  }
 },
 "nbformat": 4,
 "nbformat_minor": 4
}
